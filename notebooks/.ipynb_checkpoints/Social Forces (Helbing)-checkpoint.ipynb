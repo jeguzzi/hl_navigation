{
 "cells": [
  {
   "cell_type": "code",
   "execution_count": 5,
   "id": "52a345aa",
   "metadata": {},
   "outputs": [],
   "source": [
    "from hl_navigation import Holonomic, Disc, Twist2, Pose2, Kinematic, Neighbor, Disc, LineSegment\n",
    "from hl_navigation._hl_navigation import Behavior, GeometricState"
   ]
  },
  {
   "cell_type": "code",
   "execution_count": 30,
   "id": "d1c5dbc6",
   "metadata": {},
   "outputs": [],
   "source": [
    "import numpy as np\n",
    "\n",
    "# Jerome: what about the radius and safety margin?   \n",
    "\n",
    "Vector2 = np.ndarray\n",
    "\n",
    "class SocialForceBehavior(Behavior, GeometricState):\n",
    "    def __init__(self, kinematic: Kinematic, radius: float, tau: float = 0.5, \n",
    "                 step_duration: float = 1.0,  phi: float = 1.0):\n",
    "        Behavior.__init__(self, kinematic, radius)\n",
    "        GeometricState.__init__(self)\n",
    "        self.tau = tau\n",
    "        self.step_duration = step_duration\n",
    "        self.cos_phi = np.cos(phi)\n",
    "\n",
    "    def neighbor_repulsive_potential_gradient(self, b) -> Vector2:\n",
    "        # gradient of monotonic decreasing function V(b)\n",
    "        return np.array((1.0, 1.0))\n",
    "\n",
    "    def obstacle_repulsive_potential_gradient(self, distance) -> Vector2:\n",
    "        # gradient of monotonic decreasing function U(distance)\n",
    "        return np.array((1.0, 1.0))\n",
    "        \n",
    "    def neighbor_repulsion_force(self, neighbor: Neighbor) -> Vector2:\n",
    "        delta = neighbor.position - self.position\n",
    "        step = neighbor.velocity * self.step_duration\n",
    "        b = 0.5 * np.sqrt(np.linalg.norm(delta) + np.linalg.norm(delta - step) - \n",
    "                          np.linalg.norm(step) ** 2)\n",
    "        return -self.neighbor_repulsive_potential_gradient(b)\n",
    "\n",
    "    def disc_repulsion_force(self, obstacle: Disc) -> Vector2:      \n",
    "        distance = np.linalg.norm(obstacle.position - self.position)\n",
    "        return -self.obstacle_repulsive_potential_gradient(distance)\n",
    "\n",
    "    def line_repulsion_force(self, line: LineSegment) -> Vector2:\n",
    "        distance = line.distance_from_point(self.position)\n",
    "        return -self.obstacle_repulsive_potential_gradient(distance)    \n",
    "    \n",
    "    def effective_sight(self, e: Vector2, force: Vector2, sign: int) -> float:\n",
    "        if np.dot(e, sign * force) > self.cos_phi * np.linalg.norm(force):\n",
    "            return force\n",
    "        return np.zeros(2)\n",
    "\n",
    "    # TODO attractive effects\n",
    "    # TODO fluctuations\n",
    "    def compute_desired_velocity(self) -> Vector2:\n",
    "        # Target is in general an area, \n",
    "        # then target_position is the closed point in that area\n",
    "        e = self.target_position - self.position\n",
    "        target_velocity = e * self.optimal_speed\n",
    "        # acceleration towards desired velocity        \n",
    "        force = (target_velocity - self.velocity) / self.tau\n",
    "        # repulsion from neighbors\n",
    "        force += sum(\n",
    "            self.effective_sight(e, self.neighbor_repulsion_force(neighbor), -1) \n",
    "            for neighbor in self.neighbors)\n",
    "        force += sum(\n",
    "            self.effective_sight(e, self.disc_repulsion_force(obstacle), 1)\n",
    "            for obstacle in self.static_obstacles)\n",
    "        force += sum(\n",
    "            self.effective_sight(e, self.line_repulsion_force(obstacle), 1)\n",
    "            for obstacle in self.line_segments)\n",
    "        desired_velocity = behavior.actuated_twist.velocity + dt * force\n",
    "        # no need to clamp norm ... this will be done the superclass\n",
    "        return desired_velocity        "
   ]
  },
  {
   "cell_type": "code",
   "execution_count": null,
   "id": "3c57118e",
   "metadata": {},
   "outputs": [],
   "source": []
  },
  {
   "cell_type": "code",
   "execution_count": 31,
   "id": "b3887e5f",
   "metadata": {},
   "outputs": [],
   "source": [
    "# behavior_names() -> get_behavior_names() or use a value"
   ]
  },
  {
   "cell_type": "code",
   "execution_count": 32,
   "id": "df73c47f",
   "metadata": {},
   "outputs": [],
   "source": [
    "behavior = SocialForceBehavior(Holonomic(1.0, 1.0), 0.1)"
   ]
  },
  {
   "cell_type": "code",
   "execution_count": 33,
   "id": "a0578775",
   "metadata": {},
   "outputs": [
    {
     "ename": "NameError",
     "evalue": "name 'f' is not defined",
     "output_type": "error",
     "traceback": [
      "\u001b[0;31m---------------------------------------------------------------------------\u001b[0m",
      "\u001b[0;31mNameError\u001b[0m                                 Traceback (most recent call last)",
      "Cell \u001b[0;32mIn[33], line 7\u001b[0m\n\u001b[1;32m      5\u001b[0m behavior\u001b[38;5;241m.\u001b[39mstatic_obstacles \u001b[38;5;241m=\u001b[39m [Disc(position\u001b[38;5;241m=\u001b[39m(\u001b[38;5;241m1.5\u001b[39m, \u001b[38;5;241m0.0\u001b[39m), radius\u001b[38;5;241m=\u001b[39m\u001b[38;5;241m0.5\u001b[39m)]\n\u001b[1;32m      6\u001b[0m behavior\u001b[38;5;241m.\u001b[39mneighbor_obstacles \u001b[38;5;241m=\u001b[39m [Disc(position\u001b[38;5;241m=\u001b[39m(\u001b[38;5;241m1.5\u001b[39m, \u001b[38;5;241m0.0\u001b[39m), radius\u001b[38;5;241m=\u001b[39m\u001b[38;5;241m0.5\u001b[39m)]\n\u001b[0;32m----> 7\u001b[0m \u001b[43mbehavior\u001b[49m\u001b[38;5;241;43m.\u001b[39;49m\u001b[43mcmd_twist\u001b[49m\u001b[43m(\u001b[49m\u001b[38;5;241;43m0.1\u001b[39;49m\u001b[43m,\u001b[49m\u001b[43m \u001b[49m\u001b[38;5;28;43;01mTrue\u001b[39;49;00m\u001b[43m)\u001b[49m\n",
      "Cell \u001b[0;32mIn[30], line 57\u001b[0m, in \u001b[0;36mSocialForceBehavior.compute_desired_velocity\u001b[0;34m(self)\u001b[0m\n\u001b[1;32m     53\u001b[0m \u001b[38;5;66;03m# repulsion from neighbors\u001b[39;00m\n\u001b[1;32m     54\u001b[0m force \u001b[38;5;241m+\u001b[39m\u001b[38;5;241m=\u001b[39m \u001b[38;5;28msum\u001b[39m(\n\u001b[1;32m     55\u001b[0m     \u001b[38;5;28mself\u001b[39m\u001b[38;5;241m.\u001b[39meffective_sight(e, \u001b[38;5;28mself\u001b[39m\u001b[38;5;241m.\u001b[39mneighbor_repulsion_force(neighbor), \u001b[38;5;241m-\u001b[39m\u001b[38;5;241m1\u001b[39m) \n\u001b[1;32m     56\u001b[0m     \u001b[38;5;28;01mfor\u001b[39;00m neighbor \u001b[38;5;129;01min\u001b[39;00m \u001b[38;5;28mself\u001b[39m\u001b[38;5;241m.\u001b[39mneighbors)\n\u001b[0;32m---> 57\u001b[0m force \u001b[38;5;241m+\u001b[39m\u001b[38;5;241m=\u001b[39m \u001b[38;5;28;43msum\u001b[39;49m\u001b[43m(\u001b[49m\n\u001b[1;32m     58\u001b[0m \u001b[43m    \u001b[49m\u001b[38;5;28;43mself\u001b[39;49m\u001b[38;5;241;43m.\u001b[39;49m\u001b[43meffective_sight\u001b[49m\u001b[43m(\u001b[49m\u001b[43me\u001b[49m\u001b[43m,\u001b[49m\u001b[43m \u001b[49m\u001b[38;5;28;43mself\u001b[39;49m\u001b[38;5;241;43m.\u001b[39;49m\u001b[43mdisc_repulsion_force\u001b[49m\u001b[43m(\u001b[49m\u001b[43mobstacle\u001b[49m\u001b[43m)\u001b[49m\u001b[43m,\u001b[49m\u001b[43m \u001b[49m\u001b[38;5;241;43m1\u001b[39;49m\u001b[43m)\u001b[49m\n\u001b[1;32m     59\u001b[0m \u001b[43m    \u001b[49m\u001b[38;5;28;43;01mfor\u001b[39;49;00m\u001b[43m \u001b[49m\u001b[43mobstacle\u001b[49m\u001b[43m \u001b[49m\u001b[38;5;129;43;01min\u001b[39;49;00m\u001b[43m \u001b[49m\u001b[38;5;28;43mself\u001b[39;49m\u001b[38;5;241;43m.\u001b[39;49m\u001b[43mstatic_obstacles\u001b[49m\u001b[43m)\u001b[49m\n\u001b[1;32m     60\u001b[0m force \u001b[38;5;241m+\u001b[39m\u001b[38;5;241m=\u001b[39m \u001b[38;5;28msum\u001b[39m(\n\u001b[1;32m     61\u001b[0m     \u001b[38;5;28mself\u001b[39m\u001b[38;5;241m.\u001b[39meffective_sight(e, \u001b[38;5;28mself\u001b[39m\u001b[38;5;241m.\u001b[39mline_repulsion_force(obstacle), \u001b[38;5;241m1\u001b[39m)\n\u001b[1;32m     62\u001b[0m     \u001b[38;5;28;01mfor\u001b[39;00m obstacle \u001b[38;5;129;01min\u001b[39;00m \u001b[38;5;28mself\u001b[39m\u001b[38;5;241m.\u001b[39mline_segments)\n\u001b[1;32m     63\u001b[0m desired_velocity \u001b[38;5;241m=\u001b[39m behavior\u001b[38;5;241m.\u001b[39mactuated_twist\u001b[38;5;241m.\u001b[39mvelocity \u001b[38;5;241m+\u001b[39m dt \u001b[38;5;241m*\u001b[39m force\n",
      "Cell \u001b[0;32mIn[30], line 58\u001b[0m, in \u001b[0;36m<genexpr>\u001b[0;34m(.0)\u001b[0m\n\u001b[1;32m     53\u001b[0m \u001b[38;5;66;03m# repulsion from neighbors\u001b[39;00m\n\u001b[1;32m     54\u001b[0m force \u001b[38;5;241m+\u001b[39m\u001b[38;5;241m=\u001b[39m \u001b[38;5;28msum\u001b[39m(\n\u001b[1;32m     55\u001b[0m     \u001b[38;5;28mself\u001b[39m\u001b[38;5;241m.\u001b[39meffective_sight(e, \u001b[38;5;28mself\u001b[39m\u001b[38;5;241m.\u001b[39mneighbor_repulsion_force(neighbor), \u001b[38;5;241m-\u001b[39m\u001b[38;5;241m1\u001b[39m) \n\u001b[1;32m     56\u001b[0m     \u001b[38;5;28;01mfor\u001b[39;00m neighbor \u001b[38;5;129;01min\u001b[39;00m \u001b[38;5;28mself\u001b[39m\u001b[38;5;241m.\u001b[39mneighbors)\n\u001b[1;32m     57\u001b[0m force \u001b[38;5;241m+\u001b[39m\u001b[38;5;241m=\u001b[39m \u001b[38;5;28msum\u001b[39m(\n\u001b[0;32m---> 58\u001b[0m     \u001b[38;5;28;43mself\u001b[39;49m\u001b[38;5;241;43m.\u001b[39;49m\u001b[43meffective_sight\u001b[49m\u001b[43m(\u001b[49m\u001b[43me\u001b[49m\u001b[43m,\u001b[49m\u001b[43m \u001b[49m\u001b[38;5;28;43mself\u001b[39;49m\u001b[38;5;241;43m.\u001b[39;49m\u001b[43mdisc_repulsion_force\u001b[49m\u001b[43m(\u001b[49m\u001b[43mobstacle\u001b[49m\u001b[43m)\u001b[49m\u001b[43m,\u001b[49m\u001b[43m \u001b[49m\u001b[38;5;241;43m1\u001b[39;49m\u001b[43m)\u001b[49m\n\u001b[1;32m     59\u001b[0m     \u001b[38;5;28;01mfor\u001b[39;00m obstacle \u001b[38;5;129;01min\u001b[39;00m \u001b[38;5;28mself\u001b[39m\u001b[38;5;241m.\u001b[39mstatic_obstacles)\n\u001b[1;32m     60\u001b[0m force \u001b[38;5;241m+\u001b[39m\u001b[38;5;241m=\u001b[39m \u001b[38;5;28msum\u001b[39m(\n\u001b[1;32m     61\u001b[0m     \u001b[38;5;28mself\u001b[39m\u001b[38;5;241m.\u001b[39meffective_sight(e, \u001b[38;5;28mself\u001b[39m\u001b[38;5;241m.\u001b[39mline_repulsion_force(obstacle), \u001b[38;5;241m1\u001b[39m)\n\u001b[1;32m     62\u001b[0m     \u001b[38;5;28;01mfor\u001b[39;00m obstacle \u001b[38;5;129;01min\u001b[39;00m \u001b[38;5;28mself\u001b[39m\u001b[38;5;241m.\u001b[39mline_segments)\n\u001b[1;32m     63\u001b[0m desired_velocity \u001b[38;5;241m=\u001b[39m behavior\u001b[38;5;241m.\u001b[39mactuated_twist\u001b[38;5;241m.\u001b[39mvelocity \u001b[38;5;241m+\u001b[39m dt \u001b[38;5;241m*\u001b[39m force\n",
      "Cell \u001b[0;32mIn[30], line 40\u001b[0m, in \u001b[0;36mSocialForceBehavior.effective_sight\u001b[0;34m(self, e, force, sign)\u001b[0m\n\u001b[1;32m     39\u001b[0m \u001b[38;5;28;01mdef\u001b[39;00m \u001b[38;5;21meffective_sight\u001b[39m(\u001b[38;5;28mself\u001b[39m, e: Vector2, force: Vector2, sign: \u001b[38;5;28mint\u001b[39m) \u001b[38;5;241m-\u001b[39m\u001b[38;5;241m>\u001b[39m \u001b[38;5;28mfloat\u001b[39m:\n\u001b[0;32m---> 40\u001b[0m     \u001b[38;5;28;01mif\u001b[39;00m np\u001b[38;5;241m.\u001b[39mdot(e, sign \u001b[38;5;241m*\u001b[39m force) \u001b[38;5;241m>\u001b[39m \u001b[38;5;28mself\u001b[39m\u001b[38;5;241m.\u001b[39mcos_phi \u001b[38;5;241m*\u001b[39m np\u001b[38;5;241m.\u001b[39mlinalg\u001b[38;5;241m.\u001b[39mnorm(\u001b[43mf\u001b[49m):\n\u001b[1;32m     41\u001b[0m         \u001b[38;5;28;01mreturn\u001b[39;00m force\n\u001b[1;32m     42\u001b[0m     \u001b[38;5;28;01mreturn\u001b[39;00m np\u001b[38;5;241m.\u001b[39mzeros(\u001b[38;5;241m2\u001b[39m)\n",
      "\u001b[0;31mNameError\u001b[0m: name 'f' is not defined"
     ]
    }
   ],
   "source": [
    "\n",
    "behavior.horizon = 5.0\n",
    "behavior.position = (0.0, 0.00)\n",
    "behavior.target_position = (10.0, 0.0)\n",
    "behavior.optimal_speed = 0.5\n",
    "behavior.static_obstacles = [Disc(position=(1.5, 0.0), radius=0.5)]\n",
    "behavior.neighbor_obstacles = [Disc(position=(1.5, 0.0), radius=0.5)]\n",
    "behavior.cmd_twist(0.1, True)\n"
   ]
  },
  {
   "cell_type": "code",
   "execution_count": null,
   "id": "d6d9633d",
   "metadata": {},
   "outputs": [],
   "source": []
  }
 ],
 "metadata": {
  "kernelspec": {
   "display_name": "Python 3 (ipykernel)",
   "language": "python",
   "name": "python3"
  },
  "language_info": {
   "codemirror_mode": {
    "name": "ipython",
    "version": 3
   },
   "file_extension": ".py",
   "mimetype": "text/x-python",
   "name": "python",
   "nbconvert_exporter": "python",
   "pygments_lexer": "ipython3",
   "version": "3.10.10"
  }
 },
 "nbformat": 4,
 "nbformat_minor": 5
}
