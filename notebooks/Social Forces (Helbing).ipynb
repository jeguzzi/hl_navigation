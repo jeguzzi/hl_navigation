{
 "cells": [
  {
   "cell_type": "code",
   "execution_count": 1,
   "id": "52a345aa",
   "metadata": {},
   "outputs": [],
   "source": [
    "from hl_navigation import Holonomic, Disc, Twist2, Pose2, Kinematic, Neighbor, Disc, LineSegment\n",
    "from hl_navigation._hl_navigation import Behavior, GeometricState"
   ]
  },
  {
   "cell_type": "code",
   "execution_count": 2,
   "id": "d1c5dbc6",
   "metadata": {},
   "outputs": [],
   "source": [
    "import numpy as np\n",
    "\n",
    "# Jerome: what about the radius and safety margin?   \n",
    "\n",
    "Vector2 = np.ndarray\n",
    "\n",
    "class SocialForceBehavior(Behavior, GeometricState):\n",
    "    def __init__(self, kinematic: Kinematic, radius: float, tau: float = 0.5, \n",
    "                 step_duration: float = 1.0,  phi: float = 1.0):\n",
    "        Behavior.__init__(self, kinematic, radius)\n",
    "        GeometricState.__init__(self)\n",
    "        self.tau = tau\n",
    "        self.step_duration = step_duration\n",
    "        self.cos_phi = np.cos(phi)\n",
    "\n",
    "    def neighbor_repulsive_potential_gradient(self, b) -> Vector2:\n",
    "        # gradient of monotonic decreasing function V(b)\n",
    "        return np.array((1.0, 1.0))\n",
    "\n",
    "    def obstacle_repulsive_potential_gradient(self, distance) -> Vector2:\n",
    "        # gradient of monotonic decreasing function U(distance)\n",
    "        return np.array((1.0, 1.0))\n",
    "        \n",
    "    def neighbor_repulsion_force(self, neighbor: Neighbor) -> Vector2:\n",
    "        delta = neighbor.position - self.position\n",
    "        step = neighbor.velocity * self.step_duration\n",
    "        b = 0.5 * np.sqrt(np.linalg.norm(delta) + np.linalg.norm(delta - step) - \n",
    "                          np.linalg.norm(step) ** 2)\n",
    "        return -self.neighbor_repulsive_potential_gradient(b)\n",
    "\n",
    "    def disc_repulsion_force(self, obstacle: Disc) -> Vector2:      \n",
    "        distance = np.linalg.norm(obstacle.position - self.position)\n",
    "        return -self.obstacle_repulsive_potential_gradient(distance)\n",
    "\n",
    "    def line_repulsion_force(self, line: LineSegment) -> Vector2:\n",
    "        distance = line.distance_from_point(self.position)\n",
    "        return -self.obstacle_repulsive_potential_gradient(distance)    \n",
    "    \n",
    "    def effective_sight(self, e: Vector2, force: Vector2, sign: int) -> float:\n",
    "        if np.dot(e, sign * force) > self.cos_phi * np.linalg.norm(force):\n",
    "            return force\n",
    "        return np.zeros(2)\n",
    "\n",
    "    # TODO attractive effects\n",
    "    # TODO fluctuations\n",
    "    def compute_desired_velocity(self, dt: float) -> Vector2:\n",
    "        # Target is in general an area, \n",
    "        # then target_position is the closed point in that area\n",
    "        e = self.target_position - self.position\n",
    "        target_velocity = e * self.optimal_speed\n",
    "        # acceleration towards desired velocity        \n",
    "        force = (target_velocity - self.velocity) / self.tau\n",
    "        # repulsion from neighbors\n",
    "        force += sum(\n",
    "            self.effective_sight(e, self.neighbor_repulsion_force(neighbor), -1) \n",
    "            for neighbor in self.neighbors)\n",
    "        force += sum(\n",
    "            self.effective_sight(e, self.disc_repulsion_force(obstacle), 1)\n",
    "            for obstacle in self.static_obstacles)\n",
    "        force += sum(\n",
    "            self.effective_sight(e, self.line_repulsion_force(obstacle), 1)\n",
    "            for obstacle in self.line_obstacles)\n",
    "        desired_velocity = behavior.actuated_twist.velocity + dt * force\n",
    "        # no need to clamp norm ... this will be done the superclass\n",
    "        return desired_velocity        "
   ]
  },
  {
   "cell_type": "code",
   "execution_count": null,
   "id": "b43d9988",
   "metadata": {},
   "outputs": [],
   "source": []
  },
  {
   "cell_type": "code",
   "execution_count": 3,
   "id": "b3887e5f",
   "metadata": {},
   "outputs": [],
   "source": [
    "# behavior_names() -> get_behavior_names() or use a value"
   ]
  },
  {
   "cell_type": "code",
   "execution_count": 4,
   "id": "df73c47f",
   "metadata": {},
   "outputs": [],
   "source": [
    "behavior = SocialForceBehavior(Holonomic(1.0, 1.0), 0.1)"
   ]
  },
  {
   "cell_type": "code",
   "execution_count": 5,
   "id": "a0578775",
   "metadata": {},
   "outputs": [
    {
     "data": {
      "text/plain": [
       "Twist2((1.000000, 0.000000), 0.000000, True)"
      ]
     },
     "execution_count": 5,
     "metadata": {},
     "output_type": "execute_result"
    }
   ],
   "source": [
    "behavior.horizon = 5.0\n",
    "behavior.position = (0.0, 0.00)\n",
    "behavior.target_position = (10.0, 0.0)\n",
    "behavior.optimal_speed = 0.5\n",
    "behavior.static_obstacles = [Disc(position=(1.5, 0.0), radius=0.5)]\n",
    "behavior.neighbor_obstacles = [Disc(position=(1.5, 0.0), radius=0.5)]\n",
    "behavior.cmd_twist(0.1, True)\n"
   ]
  },
  {
   "cell_type": "code",
   "execution_count": 6,
   "id": "d54b7603",
   "metadata": {},
   "outputs": [
    {
     "data": {
      "text/plain": [
       "array([2., 0.], dtype=float32)"
      ]
     },
     "execution_count": 6,
     "metadata": {},
     "output_type": "execute_result"
    }
   ],
   "source": [
    "behavior.compute_desired_velocity(0.1)"
   ]
  },
  {
   "cell_type": "code",
   "execution_count": null,
   "id": "f5feaf89",
   "metadata": {},
   "outputs": [],
   "source": []
  }
 ],
 "metadata": {
  "kernelspec": {
   "display_name": "Python 3 (ipykernel)",
   "language": "python",
   "name": "python3"
  },
  "language_info": {
   "codemirror_mode": {
    "name": "ipython",
    "version": 3
   },
   "file_extension": ".py",
   "mimetype": "text/x-python",
   "name": "python",
   "nbconvert_exporter": "python",
   "pygments_lexer": "ipython3",
   "version": "3.10.10"
  }
 },
 "nbformat": 4,
 "nbformat_minor": 5
}
